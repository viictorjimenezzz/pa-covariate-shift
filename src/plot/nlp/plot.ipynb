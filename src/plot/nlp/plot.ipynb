{
 "cells": [
  {
   "cell_type": "code",
   "execution_count": 1,
   "metadata": {},
   "outputs": [],
   "source": [
    "import os\n",
    "import os.path as osp\n",
    "import matplotlib.pyplot as plt\n",
    "import matplotlib.lines as mlines\n",
    "import matplotlib.font_manager as fm\n",
    "import seaborn as sns"
   ]
  },
  {
   "cell_type": "code",
   "execution_count": 2,
   "metadata": {},
   "outputs": [],
   "source": [
    "import pickle\n",
    "import pandas as pd\n",
    "import numpy as np\n",
    "\n",
    "with open(r\"/cluster/home/vjimenez/adv_pa_new/results/nlp/sentiment_analysis/levenshtein.pkl\", 'rb') as f:\n",
    "    data_lev = pickle.load(f)\n",
    "df = pd.DataFrame(data_lev)\n",
    "df[\"method\"] = \"levenshtein\"\n",
    "\n",
    "with open(r\"/cluster/home/vjimenez/adv_pa_new/results/nlp/sentiment_analysis/adversarial.pkl\", 'rb') as f:\n",
    "    data_adv = pickle.load(f)\n",
    "df2 = pd.DataFrame(data_adv)\n",
    "df2[\"method\"] = \"adversarial\"\n",
    "\n",
    "with open(r\"/cluster/home/vjimenez/adv_pa_new/results/nlp/sentiment_analysis/adversarial-inverted.pkl\", 'rb') as f:\n",
    "    data_advinv = pickle.load(f)\n",
    "df3 = pd.DataFrame(data_advinv)\n",
    "df3[\"method\"] = \"adversarial_inverted\"\n",
    "\n",
    "df = pd.concat([df, df2, df3])"
   ]
  },
  {
   "cell_type": "code",
   "execution_count": 7,
   "metadata": {},
   "outputs": [],
   "source": [
    "COLORS_DICT = {\n",
    "    \"levenshtein\": \"tab:blue\",\n",
    "    \"adversarial\": \"tab:red\",\n",
    "    \"adversarial_inverted\": \"limegreen\"\n",
    "}\n",
    "\n",
    "METRICS_DICT = {\n",
    "    \"AFR_true\": r\"AFR$_{\\operatorname{T}}$\",\n",
    "    \"logPA\": \"PA\"\n",
    "}"
   ]
  },
  {
   "cell_type": "code",
   "execution_count": 4,
   "metadata": {},
   "outputs": [],
   "source": [
    "df[\"intensity_plot\"] = np.log2(df[\"intensity\"])\n",
    "\n",
    "dfplot = df.loc[(df[\"intensity_plot\"] < 9)]"
   ]
  },
  {
   "cell_type": "code",
   "execution_count": 12,
   "metadata": {},
   "outputs": [
    {
     "data": {
      "text/plain": [
       "<Figure size 772.2x545.82 with 0 Axes>"
      ]
     },
     "metadata": {},
     "output_type": "display_data"
    }
   ],
   "source": [
    "from matplotlib.ticker import ScalarFormatter\n",
    "metric = \"AFR_true\" #\"logPA\"\n",
    "\n",
    "fontname = \"DejaVu Serif\"\n",
    "_ = fm.findfont(fm.FontProperties(family=fontname))\n",
    "\n",
    "# Create a line plot for PGD attack type with Seaborn\n",
    "_, ax = plt.subplots(figsize=(2 * 3.861, 2 * 2.7291))\n",
    "fontsize = 18 \n",
    "sns.set(font_scale=1.9)\n",
    "plt.rcParams[\"font.family\"] = \"serif\"\n",
    "plt.rcParams[\"font.serif\"] = fontname\n",
    "sns.set_style(\"ticks\")\n",
    "\n",
    "sns.lineplot(\n",
    "    data=dfplot,\n",
    "    ax=ax,\n",
    "    x=\"intensity_plot\",\n",
    "    y=metric,\n",
    "    hue=\"method\",\n",
    "    style=\"method\",\n",
    "    palette=COLORS_DICT,\n",
    "    dashes=False,\n",
    "    marker=\"o\",\n",
    "    linewidth=3,\n",
    "    legend=False\n",
    ")\n",
    "\n",
    "# Set the title with the desired font name and font size\n",
    "\n",
    "ax.minorticks_on()\n",
    "ax.set_xticks([i for i in range(9)])\n",
    "ax.set_xlabel(\"Shift Power\", fontname=fontname)\n",
    "ax.set_title(\"IMDB classification\", fontname=fontname)\n",
    "\n",
    "ax.tick_params(axis=\"both\", which=\"both\", direction=\"in\")\n",
    "xticks_font = fm.FontProperties(family=fontname)\n",
    "for tick in ax.get_xticklabels():\n",
    "    tick.set_fontproperties(xticks_font)\n",
    "ax.grid(linestyle=\"--\")\n",
    "\n",
    "if metric == \"logPA\":\n",
    "    ax.set_yticks([0, -5000, -10000, -15000])\n",
    "    ax.set_yticklabels([\"0\", r\"$-0.5$\", r\"$-1.0$\", r\"$-1.5$\"])\n",
    "    ax.text(0, 1.03, r'$\\times 10^4$', transform=ax.transAxes, fontname=fontname, fontsize=18, verticalalignment='center', horizontalalignment='left')\n",
    "    # ax.yaxis.set_major_formatter(ScalarFormatter(useOffset=True))\n",
    "    # ax.yaxis.get_offset_text().set_visible(True)  # Show the offset text (scale factor)\n",
    "    # ax.yaxis.offsetText.set_text(r\"$\\times 10^{-4}$\")  # Set custom scale factor label\n",
    "\n",
    "ax.set_ylabel(\n",
    "    METRICS_DICT[metric],\n",
    "    fontname=fontname\n",
    ")\n",
    "# ax.set_yscale(\"linear\") \n",
    "\n",
    "handles = [mlines.Line2D([], [], color='tab:blue', linewidth=3), mlines.Line2D([], [], color='limegreen', linewidth=3), mlines.Line2D([], [], color='tab:red', linewidth=3)]\n",
    "labels = [\"Levenshtein\", \"Amplification\", \"Contradiction\"]\n",
    "ax.legend(\n",
    "    handles,\n",
    "    labels,\n",
    "    # loc=\"upper right\",\n",
    "    loc=\"lower left\",\n",
    "    # fontsize=12,\n",
    "    handlelength=0.5,\n",
    "    prop={\n",
    "        \"family\": fontname,\n",
    "        'size': 18\n",
    "    }  \n",
    ")\n",
    "\n",
    "\n",
    "plt.tight_layout()\n",
    "fname = osp.join(\n",
    "    r\"/cluster/home/vjimenez/adv_pa_new/results/nlp\", \n",
    "    f\"presentation_afrt.pdf\"\n",
    ")\n",
    "plt.savefig(fname, dpi=300)\n",
    "plt.clf()\n",
    "plt.show()\n"
   ]
  },
  {
   "cell_type": "code",
   "execution_count": null,
   "metadata": {},
   "outputs": [],
   "source": []
  }
 ],
 "metadata": {
  "kernelspec": {
   "display_name": "adv_pa",
   "language": "python",
   "name": "python3"
  },
  "language_info": {
   "codemirror_mode": {
    "name": "ipython",
    "version": 3
   },
   "file_extension": ".py",
   "mimetype": "text/x-python",
   "name": "python",
   "nbconvert_exporter": "python",
   "pygments_lexer": "ipython3",
   "version": "3.9.18"
  }
 },
 "nbformat": 4,
 "nbformat_minor": 2
}
