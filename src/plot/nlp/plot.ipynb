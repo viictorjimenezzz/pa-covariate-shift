{
 "cells": [
  {
   "cell_type": "code",
   "execution_count": 1,
   "metadata": {},
   "outputs": [],
   "source": [
    "import os\n",
    "import os.path as osp\n",
    "import matplotlib.pyplot as plt\n",
    "import matplotlib.lines as mlines\n",
    "import matplotlib.font_manager as fm"
   ]
  },
  {
   "cell_type": "code",
   "execution_count": 1,
   "metadata": {},
   "outputs": [
    {
     "ename": "NameError",
     "evalue": "name 'fm' is not defined",
     "output_type": "error",
     "traceback": [
      "\u001b[0;31m---------------------------------------------------------------------------\u001b[0m",
      "\u001b[0;31mNameError\u001b[0m                                 Traceback (most recent call last)",
      "Cell \u001b[0;32mIn[1], line 2\u001b[0m\n\u001b[1;32m      1\u001b[0m fontname \u001b[38;5;241m=\u001b[39m \u001b[38;5;124m\"\u001b[39m\u001b[38;5;124mDejaVu Serif\u001b[39m\u001b[38;5;124m\"\u001b[39m\n\u001b[0;32m----> 2\u001b[0m _ \u001b[38;5;241m=\u001b[39m \u001b[43mfm\u001b[49m\u001b[38;5;241m.\u001b[39mfindfont(fm\u001b[38;5;241m.\u001b[39mFontProperties(family\u001b[38;5;241m=\u001b[39mfontname))\n\u001b[1;32m      4\u001b[0m fig, ax \u001b[38;5;241m=\u001b[39m plt\u001b[38;5;241m.\u001b[39msubplots()\n\u001b[1;32m      6\u001b[0m \u001b[38;5;66;03m# Set the title with the desired font name and font size\u001b[39;00m\n",
      "\u001b[0;31mNameError\u001b[0m: name 'fm' is not defined"
     ]
    }
   ],
   "source": [
    "fontname = \"DejaVu Serif\"\n",
    "_ = fm.findfont(fm.FontProperties(family=fontname))\n",
    "\n",
    "fig, ax = plt.subplots()\n",
    "\n",
    "# Set the title with the desired font name and font size\n",
    "title_text = r\"AFR$_\\text{T}$\"\n",
    "fontsize = 18  # Replace with your desired font size\n",
    "ax.axis('off')\n",
    "\n",
    "# Set the title\n",
    "ax.set_title(title_text, fontname=fontname, fontsize=fontsize, pad=20)\n",
    "\n",
    "# Adjust the layout to center the title\n",
    "plt.tight_layout()\n",
    "\n",
    "# Save the figure with the title\n",
    "plt.savefig(\"title2.png\", bbox_inches='tight', dpi=500)\n",
    "\n",
    "# Display the figure (optional)\n",
    "plt.show()\n",
    "\n"
   ]
  },
  {
   "cell_type": "code",
   "execution_count": null,
   "metadata": {},
   "outputs": [],
   "source": []
  }
 ],
 "metadata": {
  "kernelspec": {
   "display_name": "adv_pa",
   "language": "python",
   "name": "python3"
  },
  "language_info": {
   "codemirror_mode": {
    "name": "ipython",
    "version": 3
   },
   "file_extension": ".py",
   "mimetype": "text/x-python",
   "name": "python",
   "nbconvert_exporter": "python",
   "pygments_lexer": "ipython3",
   "version": "3.9.18"
  }
 },
 "nbformat": 4,
 "nbformat_minor": 2
}
